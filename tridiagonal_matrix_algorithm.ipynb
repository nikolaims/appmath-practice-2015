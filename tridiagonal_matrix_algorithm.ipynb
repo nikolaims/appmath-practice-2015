{
 "cells": [
  {
   "cell_type": "markdown",
   "metadata": {},
   "source": [
    "# Реализация метода прогонки"
   ]
  },
  {
   "cell_type": "markdown",
   "metadata": {},
   "source": [
    "##Импорты\n",
    "Библиотека `numpy` используется только для удобства вывода результатов и употребляется только внутри функции `print()`"
   ]
  },
  {
   "cell_type": "code",
   "execution_count": 59,
   "metadata": {
    "collapsed": false
   },
   "outputs": [],
   "source": [
    "import numpy as np"
   ]
  },
  {
   "cell_type": "markdown",
   "metadata": {},
   "source": [
    "## Инициализация матрицы и правой части"
   ]
  },
  {
   "cell_type": "code",
   "execution_count": 62,
   "metadata": {
    "collapsed": false
   },
   "outputs": [
    {
     "name": "stdout",
     "output_type": "stream",
     "text": [
      "Ax = f\n",
      "\n",
      "A =\n",
      " [[ 1  1  0  0]\n",
      " [-1  1  1  0]\n",
      " [ 0  1  1  1]\n",
      " [ 0  0  1  1]] \n",
      "f = \n",
      " [[1]\n",
      " [1]\n",
      " [1]\n",
      " [1]]\n"
     ]
    }
   ],
   "source": [
    "a = [-1, 1, 1]\n",
    "b = [1, 1, 1, 1]\n",
    "c = [1, 1, 1]\n",
    "f = [1, 1, 1, 1]\n",
    "n = len(b)\n",
    "print(\"Ax = f\\n\\nA =\\n\", np.diag(a, -1) + np.diag(b, 0) + np.diag(c, 1), \"\\nf = \\n\", np.array(f)[:, None])"
   ]
  },
  {
   "cell_type": "markdown",
   "metadata": {},
   "source": [
    "## Прямой ход"
   ]
  },
  {
   "cell_type": "code",
   "execution_count": 63,
   "metadata": {
    "collapsed": false
   },
   "outputs": [],
   "source": [
    "c.append(0)\n",
    "c[0] = c[0]/b[0]\n",
    "f[0] = f[0]/b[0]\n",
    "for j in range(1, n):\n",
    "    c[j] = c[j]/(b[j]-a[j-1]*c[j-1])\n",
    "    f[j] = (f[j]-a[j-1]*f[j-1])/(b[j]-a[j-1]*c[j-1])"
   ]
  },
  {
   "cell_type": "markdown",
   "metadata": {},
   "source": [
    "## Обратный ход"
   ]
  },
  {
   "cell_type": "code",
   "execution_count": 64,
   "metadata": {
    "collapsed": false
   },
   "outputs": [],
   "source": [
    "x = [0 for j in range(n)]\n",
    "x[-1] = f[-1]\n",
    "for j in range(1, n):\n",
    "    x[-j-1] = f[-j-1] - c[-j-1]*x[-j]"
   ]
  },
  {
   "cell_type": "markdown",
   "metadata": {
    "collapsed": true
   },
   "source": [
    "## Ответ"
   ]
  },
  {
   "cell_type": "code",
   "execution_count": 65,
   "metadata": {
    "collapsed": false
   },
   "outputs": [
    {
     "name": "stdout",
     "output_type": "stream",
     "text": [
      "x = \n",
      " [[ 1.]\n",
      " [ 0.]\n",
      " [ 2.]\n",
      " [-1.]]\n"
     ]
    }
   ],
   "source": [
    "print(\"x = \\n\", np.array(x)[:, None])"
   ]
  }
 ],
 "metadata": {
  "kernelspec": {
   "display_name": "Python 3",
   "language": "python",
   "name": "python3"
  },
  "language_info": {
   "codemirror_mode": {
    "name": "ipython",
    "version": 3
   },
   "file_extension": ".py",
   "mimetype": "text/x-python",
   "name": "python",
   "nbconvert_exporter": "python",
   "pygments_lexer": "ipython3",
   "version": "3.4.0"
  }
 },
 "nbformat": 4,
 "nbformat_minor": 0
}
