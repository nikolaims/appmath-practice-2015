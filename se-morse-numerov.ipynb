{
 "cells": [
  {
   "cell_type": "markdown",
   "metadata": {},
   "source": [
    "# Реализации метода Нумерова для решения граничной задачи для уравнения Шредингера\n",
    "В настоящей тетради производится вычисление энергии связанных состояний методом Нумерова и методом конечных разностей (второго порядка)."
   ]
  },
  {
   "cell_type": "markdown",
   "metadata": {},
   "source": [
    "##Импорты\n",
    "Импорт `scipy.linalg.lapack` и `scipy.linalg.lapack` - wrapper'ов для `LAPACK` и `BLAS`. Пакеты `numpy` и `matplotlib` используются для удобства вывода результатов и `seaborn` для красоты графиков. Для определения степени сходимости по наклону графика сходимости использутся `scipy.stats.linregress`."
   ]
  },
  {
   "cell_type": "code",
   "execution_count": 11,
   "metadata": {
    "collapsed": true
   },
   "outputs": [],
   "source": [
    "from scipy.linalg import lapack, blas, eigvals_banded\n",
    "from scipy.stats import linregress\n",
    "import numpy as np\n",
    "\n",
    "import matplotlib.pyplot as plt\n",
    "import seaborn\n",
    "%matplotlib inline"
   ]
  },
  {
   "cell_type": "markdown",
   "metadata": {},
   "source": [
    "##Параметры сетки"
   ]
  },
  {
   "cell_type": "code",
   "execution_count": 66,
   "metadata": {
    "collapsed": true
   },
   "outputs": [],
   "source": [
    "N = 100\n",
    "x_0 = 0.\n",
    "x_max = 20.\n",
    "h = (x_max - x_0)/(N-1)"
   ]
  },
  {
   "cell_type": "markdown",
   "metadata": {},
   "source": [
    "##Потенциал Морзе"
   ]
  },
  {
   "cell_type": "code",
   "execution_count": 67,
   "metadata": {
    "collapsed": false
   },
   "outputs": [
    {
     "data": {
      "image/png": "[encoded data removed]",
      "text/plain": [
       "<matplotlib.figure.Figure at 0x7fcdce586cf8>"
      ]
     },
     "metadata": {},
     "output_type": "display_data"
    }
   ],
   "source": [
    "# Morse potential\n",
    "morse_V = lambda x, kappa, x0: kappa**2*(np.exp(-2*(x-x0)) - 2*np.exp(-(x-x0)))\n",
    "morse_E = lambda n, kappa: -(kappa - n - 0.5)**2\n",
    "kappa = 5.\n",
    "x0 = 2.\n",
    "\n",
    "# Morse potential plotting\n",
    "plt.figure(figsize=(8, 6))\n",
    "x = np.arange(x_0, x_max, 0.1)\n",
    "y = morse_V(x, kappa, x0)\n",
    "plt.plot(x, y)\n",
    "plt.ylim(min(y), -min(y))\n",
    "plt.xlabel(\"x\")\n",
    "plt.ylabel(\"V(x)\")\n",
    "plt.title(\"Morse potential\")\n",
    "plt.show()"
   ]
  },
  {
   "cell_type": "markdown",
   "metadata": {},
   "source": [
    "##Решение уравнения Шреденгера\n",
    "###Метод Нумерова\n",
    "* Заполнение трехдиагональных матриц A, B, V"
   ]
  },
  {
   "cell_type": "code",
   "execution_count": 68,
   "metadata": {
    "collapsed": false
   },
   "outputs": [
    {
     "name": "stdout",
     "output_type": "stream",
     "text": [
      "\n",
      "First 3x3 block of A:\n",
      " [[ 49.005  -24.5025   0.    ]\n",
      " [-24.5025  49.005  -24.5025]\n",
      " [  0.     -24.5025  49.005 ]]\n",
      "\n",
      "First 3x3 block of B:\n",
      " [[ 0.83333333  0.08333333  0.        ]\n",
      " [ 0.08333333  0.83333333  0.08333333]\n",
      " [ 0.          0.08333333  0.83333333]]\n",
      "\n",
      "First 3x3 block of V:\n",
      " [[ 995.50094588    0.            0.        ]\n",
      " [   0.          609.3946134     0.        ]\n",
      " [   0.            0.          361.72413158]]\n"
     ]
    }
   ],
   "source": [
    "def get_ABV(N, h, kappa, x0):\n",
    "    A = [[0 for j in range(N)] for k in range(N)]\n",
    "    B = [[0 for j in range(N)] for k in range(N)]\n",
    "    V = [[0 for j in range(N)] for k in range(N)]\n",
    "\n",
    "    for j in range(N):\n",
    "        x = x_0 + h*j\n",
    "        A[j][j] = 2/h**2\n",
    "        B[j][j] = 10/12\n",
    "        V[j][j] = morse_V(x, kappa, x0)\n",
    "        if j > 0:\n",
    "            A[j][j-1] = -1/h**2\n",
    "            B[j][j-1] = 1/12\n",
    "        if j < N-1:\n",
    "            A[j][j+1] = -1/h**2\n",
    "            B[j][j+1] = 1/12\n",
    "    return A, B, V\n",
    "\n",
    "A, B, V = get_ABV(N, h, kappa, x0)\n",
    "print(\"\\nFirst 3x3 block of A:\\n\", np.array(A)[:3,:3])\n",
    "print(\"\\nFirst 3x3 block of B:\\n\", np.array(B)[:3,:3])\n",
    "print(\"\\nFirst 3x3 block of V:\\n\", np.array(V)[:3,:3])\n"
   ]
  },
  {
   "cell_type": "markdown",
   "metadata": {},
   "source": [
    "* Формирование дискретного гамильтониана"
   ]
  },
  {
   "cell_type": "code",
   "execution_count": 69,
   "metadata": {
    "collapsed": false
   },
   "outputs": [
    {
     "name": "stdout",
     "output_type": "stream",
     "text": [
      "\n",
      "First 3x3 block of H_Numerov = inv_BxA + V:\n",
      " [[ 1057.90768819   -36.00742307     3.6374884 ]\n",
      " [  -36.00742307   675.43884411   -36.37488402]\n",
      " [    3.6374884    -36.37488402   427.80548338]]\n"
     ]
    }
   ],
   "source": [
    "def get_H_Numerov(A, B, V):\n",
    "    lu, piv = lapack.dgetrf(B)[:2]\n",
    "    inv_B = lapack.dgetri(lu, piv)[0]\n",
    "    inv_BxA = blas.dgemm(1., inv_B, A)\n",
    "    H_Numerov = [[inv_BxA[i][j] + V[i][j] for j in range(N)] for i in range(N)]\n",
    "    return H_Numerov\n",
    "\n",
    "H_Numerov = get_H_Numerov(A, B, V)\n",
    "print(\"\\nFirst 3x3 block of H_Numerov = inv_BxA + V:\\n\", np.array(H_Numerov)[:3, :3])"
   ]
  },
  {
   "cell_type": "markdown",
   "metadata": {},
   "source": [
    "* Решение обобщенной задачи на собственные значения"
   ]
  },
  {
   "cell_type": "code",
   "execution_count": 70,
   "metadata": {
    "collapsed": false
   },
   "outputs": [
    {
     "name": "stdout",
     "output_type": "stream",
     "text": [
      "\n",
      "Eigenvalues (Numerov method):\n",
      "n = 0 : -20.2515118578\n",
      "n = 1 : -12.2560991437\n",
      "n = 2 : -6.26110734274\n",
      "n = 3 : -2.26137538481\n",
      "n = 4 : -0.254876993086\n",
      "n = 5 : 0.0554945107459\n",
      "n = 6 : 0.211817396386\n",
      "n = 7 : 0.45459844393\n",
      "n = 8 : 0.775254542539\n",
      "n = 9 : 1.16867427093\n"
     ]
    }
   ],
   "source": [
    "def get_sorted_egenvalues(H):\n",
    "    H_data = np.zeros((2, len(H)))\n",
    "    H_data[0,1:] = [H[j][j+1] for j in range(len(H)-1)]\n",
    "    H_data[1,0:] = [H[j][j] for j in range(len(H))]\n",
    "    #print(H[:3][:3])\n",
    "    eigvalr = sorted(lapack.dgeev(H)[0])\n",
    "    #eigvalr = eigvals_banded(H_data, select='i', select_range=(0,20))\n",
    "    return eigvalr\n",
    "\n",
    "eigvalr_Numerov = get_sorted_egenvalues(H_Numerov)\n",
    "print('\\nEigenvalues (Numerov method):')\n",
    "for i in range(10):\n",
    "    print('n =', i, ':', eigvalr_Numerov[i])"
   ]
  },
  {
   "cell_type": "markdown",
   "metadata": {},
   "source": [
    "### Конечно-разностный метод\n",
    "* Формирование дискретного гамильтониана"
   ]
  },
  {
   "cell_type": "code",
   "execution_count": 71,
   "metadata": {
    "collapsed": false
   },
   "outputs": [
    {
     "name": "stdout",
     "output_type": "stream",
     "text": [
      "First 3x3 block of H_FDM = A + V:\n",
      " [[ 1044.50594588   -24.5025         0.        ]\n",
      " [  -24.5025       658.3996134    -24.5025    ]\n",
      " [    0.           -24.5025       410.72913158]]\n"
     ]
    }
   ],
   "source": [
    "def get_H_FDM(A, B, V):\n",
    "    H_FDM = [[A[i][j] + V[i][j] for j in range(N)] for i in range(N)]\n",
    "    return H_FDM\n",
    "\n",
    "H_FDM = get_H_FDM(A, B, V)\n",
    "print(\"First 3x3 block of H_FDM = A + V:\\n\", np.array(H_FDM)[:3, :3])"
   ]
  },
  {
   "cell_type": "markdown",
   "metadata": {},
   "source": [
    "* Решение задачи на собственные значения"
   ]
  },
  {
   "cell_type": "code",
   "execution_count": 72,
   "metadata": {
    "collapsed": false
   },
   "outputs": [
    {
     "name": "stdout",
     "output_type": "stream",
     "text": [
      "\n",
      "Eigenvalues (FDM):\n",
      "n = 0 : -20.3062927914\n",
      "n = 1 : -12.438583782\n",
      "n = 2 : -6.54709361886\n",
      "n = 3 : -2.53414689745\n",
      "n = 4 : -0.379041696951\n",
      "n = 5 : 0.0479469354697\n",
      "n = 6 : 0.190984966444\n",
      "n = 7 : 0.421303232228\n",
      "n = 8 : 0.729690196305\n",
      "n = 9 : 1.109736501\n"
     ]
    }
   ],
   "source": [
    "eigvalr_FDM = get_sorted_egenvalues(H_FDM)\n",
    "print('\\nEigenvalues (FDM):')\n",
    "for i in range(10):\n",
    "    print('n =', i, ':', eigvalr_FDM[i])"
   ]
  },
  {
   "cell_type": "markdown",
   "metadata": {},
   "source": [
    "## Вывод графика с собственными значениями на фоне потенциала Морзе\n",
    "На графике линиями с текстом отмечены связанные состояния. Свободные состояния указаны прозрачными линиями."
   ]
  },
  {
   "cell_type": "code",
   "execution_count": 73,
   "metadata": {
    "collapsed": false
   },
   "outputs": [
    {
     "data": {
      "text/plain": [
       "<matplotlib.text.Text at 0x7fcdcdff1e48>"
      ]
     },
     "execution_count": 73,
     "metadata": {},
     "output_type": "execute_result"
    },
    {
     "data": {
      "image/png": "[encoded data removed]",
      "text/plain": [
       "<matplotlib.figure.Figure at 0x7fcdce586400>"
      ]
     },
     "metadata": {},
     "output_type": "display_data"
    }
   ],
   "source": [
    "plt.figure(figsize=(8, 6))\n",
    "x = np.arange(x_0, x_max, 0.1)\n",
    "y = morse_V(x, kappa, x0)\n",
    "plt.plot(x, y, '--',lw=3, alpha = 0.5)\n",
    "plt.ylim(min(y), -min(y)/4)\n",
    "plt.xlabel(\"x\")\n",
    "plt.ylabel(\"V(x)\")\n",
    "plt.title(\"Morse potential and eigenvalues\")\n",
    "for i in range(N):\n",
    "    if eigvalr_Numerov[i]<0:\n",
    "        plt.plot(x[:len(x)/2], [eigvalr_Numerov[i] for j in range(int(len(x)/2))], alpha = 1)\n",
    "        plt.text(7, eigvalr_Numerov[i], \"n%d = %.3f\" % (i, eigvalr_Numerov[i]))\n",
    "        plt.plot(x[len(x)/2:], [eigvalr_FDM[i] for j in range(int(len(x)/2))], alpha = 1)\n",
    "        plt.text(11, eigvalr_FDM[i], \"n%d = %.3f\" % (i, eigvalr_FDM[i]))\n",
    "    else:\n",
    "        plt.plot(x[:len(x)/2], [eigvalr_Numerov[i] for j in range(int(len(x)/2))], alpha = 0.2)\n",
    "        plt.plot(x[len(x)/2:], [eigvalr_FDM[i] for j in range(int(len(x)/2))], alpha = 0.2)\n",
    "\n",
    "plt.text(7, 4, \"Numerov\", size=15)\n",
    "plt.text(11, 4, \"FDM\", size=15)"
   ]
  },
  {
   "cell_type": "markdown",
   "metadata": {
    "collapsed": true
   },
   "source": [
    "## Сравнение скорости сходимости\n",
    "* Вычисление собственных значений для различных значений N"
   ]
  },
  {
   "cell_type": "code",
   "execution_count": 74,
   "metadata": {
    "collapsed": false
   },
   "outputs": [],
   "source": [
    "N_list = [k for k in range(100, 1000, 100)]\n",
    "ev_list_Numerov = []\n",
    "ev_list_FDM = []\n",
    "for N in N_list:\n",
    "    h = (x_max - x_0)/(N-1) \n",
    "    A, B, V = get_ABV(N, h, kappa, x0)\n",
    "    ev_list_Numerov.append(get_sorted_egenvalues(get_H_Numerov(A, B, V)))\n",
    "    ev_list_FDM.append(get_sorted_egenvalues(get_H_FDM(A, B, V)))"
   ]
  },
  {
   "cell_type": "markdown",
   "metadata": {},
   "source": [
    "* Определение скоростей сходимости для наименьших двух связанных состояний"
   ]
  },
  {
   "cell_type": "code",
   "execution_count": 75,
   "metadata": {
    "collapsed": false
   },
   "outputs": [],
   "source": [
    "rate_Numerov = []\n",
    "rate_FDM = []\n",
    "for k in range(len(N_list)):\n",
    "    rate_FDM.append(abs(ev_list_FDM[k][0]-morse_E(0, kappa)))\n",
    "    rate_Numerov.append(abs(ev_list_Numerov[k][0]-morse_E(0, kappa)))"
   ]
  },
  {
   "cell_type": "markdown",
   "metadata": {},
   "source": [
    "* Вывод графиков"
   ]
  },
  {
   "cell_type": "code",
   "execution_count": 77,
   "metadata": {
    "collapsed": false
   },
   "outputs": [
    {
     "data": {
      "text/plain": [
       "<matplotlib.text.Text at 0x7fcdce157908>"
      ]
     },
     "execution_count": 77,
     "metadata": {},
     "output_type": "execute_result"
    },
    {
     "data": {
      "image/png": "[encoded data removed]",
      "text/plain": [
       "<matplotlib.figure.Figure at 0x7fcdd4590b00>"
      ]
     },
     "metadata": {},
     "output_type": "display_data"
    }
   ],
   "source": [
    "h_list = [(x_max - x_0)/(N-1) for N in N_list]\n",
    "plt.figure(figsize=(10, 6))\n",
    "plt.loglog(h_list[:], rate_Numerov, '-',lw=3)\n",
    "plt.loglog(h_list[:], rate_FDM, '-',lw=3)\n",
    "plt.legend(['Numerov', 'FDM'])\n",
    "#plt.xlim(.9e-2, 1e-1)\n",
    "#plt.ylim(1e-9, 1e-2)\n",
    "slope_Numerov = linregress(np.log(h_list[:]), np.log(rate_Numerov))[0]\n",
    "slope_FDM = linregress(np.log(h_list[:]), np.log(rate_FDM))[0]\n",
    "plt.text(0.02, .2e-2, 'slope = %.2f' % slope_FDM)\n",
    "plt.text(0.02, 1e-6, 'slope = %.2f' % slope_Numerov)\n",
    "plt.xlabel('h')\n",
    "plt.ylabel('${\\Delta}E$')\n",
    "plt.title('Rate of convergence of first 2 egenvalues')"
   ]
  },
  {
   "cell_type": "markdown",
   "metadata": {},
   "source": [
    "Таким образом видно, что метод Нумерова является более точным чем конечноразностный метод 2-го порядка. Эксперементальная скорость сходимости для метода Нумерова равна примерно 4.0, для конечноразностного метода примерно 2.0, что согласуется с теоретическими сходимостями."
   ]
  }
 ],
 "metadata": {
  "kernelspec": {
   "display_name": "Python 3",
   "language": "python",
   "name": "python3"
  },
  "language_info": {
   "codemirror_mode": {
    "name": "ipython",
    "version": 3
   },
   "file_extension": ".py",
   "mimetype": "text/x-python",
   "name": "python",
   "nbconvert_exporter": "python",
   "pygments_lexer": "ipython3",
   "version": "3.4.3"
  }
 },
 "nbformat": 4,
 "nbformat_minor": 0
}
