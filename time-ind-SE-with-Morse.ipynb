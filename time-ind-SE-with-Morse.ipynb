{
 "cells": [
  {
   "cell_type": "markdown",
   "metadata": {},
   "source": [
    "##Импорты\n",
    "Импорт wrapper'ов для `LAPACK`. Пакеты `numpy` и `matplotlib` используются для удобства вывода результатов и `seaborn` для красоты графиков."
   ]
  },
  {
   "cell_type": "code",
   "execution_count": 7,
   "metadata": {
    "collapsed": true
   },
   "outputs": [],
   "source": [
    "from scipy.linalg import lapack\n",
    "import numpy as np\n",
    "\n",
    "import matplotlib.pyplot as plt\n",
    "import seaborn\n",
    "%matplotlib inline"
   ]
  },
  {
   "cell_type": "markdown",
   "metadata": {},
   "source": [
    "##Параметры сетки"
   ]
  },
  {
   "cell_type": "code",
   "execution_count": 8,
   "metadata": {
    "collapsed": true
   },
   "outputs": [],
   "source": [
    "N = 100\n",
    "x_0 = 0.\n",
    "x_max = 20.\n",
    "h = (x_max - x_0)/N"
   ]
  },
  {
   "cell_type": "markdown",
   "metadata": {},
   "source": [
    "##Потенциал Морзе"
   ]
  },
  {
   "cell_type": "code",
   "execution_count": 9,
   "metadata": {
    "collapsed": false
   },
   "outputs": [
    {
     "data": {
      "image/png": "[encoded data removed]",
      "text/plain": [
       "<matplotlib.figure.Figure at 0x7f59e6c97fd0>"
      ]
     },
     "metadata": {},
     "output_type": "display_data"
    }
   ],
   "source": [
    "# Morse potential\n",
    "morse_V = lambda x, kappa, x0: kappa**2*(np.exp(-2*(x-x0)) - 2*np.exp(-(x-x0)))\n",
    "kappa = 5.\n",
    "x0 = 2.\n",
    "\n",
    "# Morse potential plotting\n",
    "plt.figure(figsize=(8, 6))\n",
    "x = np.arange(x_0, x_max, 0.1)\n",
    "y = morse_V(x, kappa, x0)\n",
    "plt.plot(x, y)\n",
    "plt.ylim(min(y), -min(y))\n",
    "plt.xlabel(\"x\")\n",
    "plt.ylabel(\"V(x)\")\n",
    "plt.title(\"Morse potential\")\n",
    "plt.show()"
   ]
  },
  {
   "cell_type": "markdown",
   "metadata": {},
   "source": [
    "##Заполнение трехдиагональной матрицы A"
   ]
  },
  {
   "cell_type": "code",
   "execution_count": 10,
   "metadata": {
    "collapsed": false
   },
   "outputs": [
    {
     "name": "stdout",
     "output_type": "stream",
     "text": [
      "First 3x3 block of A:\n",
      " [[ 1045.50094588   -25.             0.        ]\n",
      " [  -25.           662.47348787   -25.        ]\n",
      " [    0.           -25.           415.66163371]]\n"
     ]
    }
   ],
   "source": [
    "# Matrix A filling\n",
    "A = [[0 for j in range(N)] for k in range(N)]\n",
    "for j in range(N):\n",
    "    x = x_0 + h*j\n",
    "    A[j][j] = 2/h**2 + morse_V(x, kappa, x0)\n",
    "    if j > 0:\n",
    "        A[j][j-1] = -1/h**2\n",
    "    if j < N-1:\n",
    "        A[j][j+1] = -1/h**2\n",
    "        \n",
    "print(\"First 3x3 block of A:\\n\", np.array(A)[:3,:3])"
   ]
  },
  {
   "cell_type": "markdown",
   "metadata": {},
   "source": [
    "## Вычисление собственных значений и собственных векторов матрицы A\n",
    "Производится вычисления собственных значений и чисел, сортировка собственных чисел по возрастанию и вывод первых 10"
   ]
  },
  {
   "cell_type": "code",
   "execution_count": 12,
   "metadata": {
    "collapsed": false
   },
   "outputs": [
    {
     "name": "stdout",
     "output_type": "stream",
     "text": [
      " Coбственное значение  0  =  -20.3051560467\n",
      " Coбственное значение  1  =  -12.4347155568\n",
      " Coбственное значение  2  =  -6.54085398315\n",
      " Coбственное значение  3  =  -2.52795701237\n",
      " Coбственное значение  4  =  -0.375965017382\n",
      " Coбственное значение  5  =  0.049504533284\n",
      " Coбственное значение  6  =  0.196873768424\n",
      " Coбственное значение  7  =  0.43360089015\n",
      " Coбственное значение  8  =  0.750081495731\n",
      " Coбственное значение  9  =  1.13972964289\n"
     ]
    }
   ],
   "source": [
    "out = lapack.dgeev(A)\n",
    "eigvalr = sorted(out[0])\n",
    "for i in range(10):\n",
    "    print(' Coбственное значение ', i, ' = ', eigvalr[i])"
   ]
  },
  {
   "cell_type": "markdown",
   "metadata": {},
   "source": [
    "## Вывод графика с собственными значениями на фоне потенциала Морзе\n",
    "На графике линиями с текстом отмечены связанные состояния. Свободные состояния указаны прозрачными линиями."
   ]
  },
  {
   "cell_type": "code",
   "execution_count": 13,
   "metadata": {
    "collapsed": false
   },
   "outputs": [
    {
     "data": {
      "image/png": "[encoded data removed]",
      "text/plain": [
       "<matplotlib.figure.Figure at 0x7f59c6b2a208>"
      ]
     },
     "metadata": {},
     "output_type": "display_data"
    }
   ],
   "source": [
    "plt.figure(figsize=(8, 6))\n",
    "x = np.arange(x_0, x_max, 0.1)\n",
    "y = morse_V(x, kappa, x0)\n",
    "plt.plot(x, y, lw=3)\n",
    "plt.ylim(min(y), -min(y))\n",
    "plt.xlabel(\"x\")\n",
    "plt.ylabel(\"V(x)\")\n",
    "plt.title(\"Morse potential and eigenvalues\")\n",
    "for i in range(N):\n",
    "    if eigvalr[i]<0:\n",
    "        plt.plot(x, [eigvalr[i] for j in range(len(x))], alpha = 0.9)\n",
    "        plt.text(x_max-i*3.8-4, eigvalr[i], \"n=%d: %.2f\" % (i, eigvalr[i]))\n",
    "    else:\n",
    "         plt.plot(x, [eigvalr[i] for j in range(len(x))], alpha = 0.2)   "
   ]
  },
  {
   "cell_type": "code",
   "execution_count": null,
   "metadata": {
    "collapsed": true
   },
   "outputs": [],
   "source": []
  }
 ],
 "metadata": {
  "kernelspec": {
   "display_name": "Python 3",
   "language": "python",
   "name": "python3"
  },
  "language_info": {
   "codemirror_mode": {
    "name": "ipython",
    "version": 3
   },
   "file_extension": ".py",
   "mimetype": "text/x-python",
   "name": "python",
   "nbconvert_exporter": "python",
   "pygments_lexer": "ipython3",
   "version": "3.4.0"
  }
 },
 "nbformat": 4,
 "nbformat_minor": 0
}
