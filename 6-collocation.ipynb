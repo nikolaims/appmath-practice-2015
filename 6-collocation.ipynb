{
 "cells": [
  {
   "cell_type": "code",
   "execution_count": 82,
   "metadata": {
    "collapsed": false
   },
   "outputs": [],
   "source": [
    "import numpy as np\n",
    "from scipy.sparse import *\n",
    "from scipy.sparse.linalg import eigsh\n",
    "from scipy.linalg import lapack, eigvals_banded, eig_banded, eigh\n",
    "import seaborn as sns\n",
    "import matplotlib.pyplot as plt\n",
    "from IPython.display import clear_output\n",
    "%matplotlib inline"
   ]
  },
  {
   "cell_type": "markdown",
   "metadata": {},
   "source": [
    "## Задание 6 \n",
    "# Метод коллокаций\n",
    "## Константы и параметры сетки\n",
    "Здесь задаются все требуемые при расчете постоянные и коэффициенты."
   ]
  },
  {
   "cell_type": "code",
   "execution_count": 103,
   "metadata": {
    "collapsed": false
   },
   "outputs": [],
   "source": [
    "N = 4000\n",
    "xmax = 100\n",
    "h = xmax/(N+1)\n",
    "xnet = np.array([h*(j+1) for j in range(N)])"
   ]
  },
  {
   "cell_type": "markdown",
   "metadata": {},
   "source": [
    "## Решение обобщенной задачи на собственные значения\n",
    "Применяемый метод сводится к обобщенной задачи на собственные значения вида $A\\vec{c}=EB\\vec{c}$, где $\\vec{c}$ - вектор коэффициэнтов разложения волновой функции по B-сплайнам. Ниже формируются матрицы A и B."
   ]
  },
  {
   "cell_type": "code",
   "execution_count": 111,
   "metadata": {
    "collapsed": false
   },
   "outputs": [],
   "source": [
    "# кулоновский потенциал\n",
    "V = np.array([-2/x for x in xnet])\n",
    "# матрица A\n",
    "A = np.diag([3/h**2 + v for x, v in zip(xnet, V)])\n",
    "for j, v in zip(range(N), V):\n",
    "    if j<N-1:\n",
    "        A[j, j+1] = -3/2/h**2 + v/4\n",
    "    if j>0:\n",
    "        A[j, j-1] = -3/2/h**2 + v/4\n",
    "# матрица B\n",
    "B = dia_matrix( ([np.ones(N)/4, np.ones(N), np.ones(N)/4],[-1, 0, 1]), shape=(N,N)).todense()"
   ]
  },
  {
   "cell_type": "markdown",
   "metadata": {},
   "source": [
    "Определение трех первых собственных значений"
   ]
  },
  {
   "cell_type": "code",
   "execution_count": 112,
   "metadata": {
    "collapsed": false
   },
   "outputs": [],
   "source": [
    "out = eigh(A, b=B, eigvals_only=True, eigvals=(0,2))"
   ]
  },
  {
   "cell_type": "markdown",
   "metadata": {},
   "source": [
    "Сравнение результата с аналитическими значениями $E_n=-\\frac{1}{n^2}$"
   ]
  },
  {
   "cell_type": "code",
   "execution_count": 133,
   "metadata": {
    "collapsed": false
   },
   "outputs": [
    {
     "name": "stdout",
     "output_type": "stream",
     "text": [
      "\t n=1\t n=2\t n=3\n",
      "рассчет\t-0.984\t-0.248\t-0.111\n",
      "теория\t-1.000\t-0.250\t-0.111\n",
      "ошибка\t+0.016\t+0.002\t+0.001\n"
     ]
    }
   ],
   "source": [
    "print(\"\\t n=1\\t n=2\\t n=3\")\n",
    "theor = np.array([-1/n**2 for n in range(1,4)])\n",
    "print(\"рассчет\\t{:.3f}\\t{:.3f}\\t{:.3f}\".format(*out))\n",
    "print(\"теория\\t{:.3f}\\t{:.3f}\\t{:.3f}\".format(*theor))\n",
    "print(\"ошибка\\t{:+.3f}\\t{:+.3f}\\t{:+.3f}\".format(*abs(theor-out)))"
   ]
  },
  {
   "cell_type": "markdown",
   "metadata": {},
   "source": [
    "Видно что результаты расчета достаточно хорошо соответсвуют теории"
   ]
  },
  {
   "cell_type": "code",
   "execution_count": null,
   "metadata": {
    "collapsed": true
   },
   "outputs": [],
   "source": []
  }
 ],
 "metadata": {
  "kernelspec": {
   "display_name": "Python 3",
   "language": "python",
   "name": "python3"
  },
  "language_info": {
   "codemirror_mode": {
    "name": "ipython",
    "version": 3
   },
   "file_extension": ".py",
   "mimetype": "text/x-python",
   "name": "python",
   "nbconvert_exporter": "python",
   "pygments_lexer": "ipython3",
   "version": "3.4.3"
  }
 },
 "nbformat": 4,
 "nbformat_minor": 0
}
