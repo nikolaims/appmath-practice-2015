{
 "cells": [
  {
   "cell_type": "code",
   "execution_count": 1,
   "metadata": {
    "collapsed": false
   },
   "outputs": [],
   "source": [
    "import numpy as np\n",
    "from scipy.sparse.linalg import eigsh\n",
    "import seaborn as sns\n",
    "import matplotlib.pyplot as plt\n",
    "from IPython.display import clear_output\n",
    "%matplotlib inline"
   ]
  },
  {
   "cell_type": "markdown",
   "metadata": {},
   "source": [
    "## Задание 7 \n",
    "# Задача рассеяния\n",
    "## Параметры сетки и функции\n",
    "Здесь задаются все требуемые при расчете параметры и функции."
   ]
  },
  {
   "cell_type": "code",
   "execution_count": 7,
   "metadata": {
    "collapsed": false
   },
   "outputs": [
    {
     "data": {
      "image/png": "[encoded data removed]",
      "text/plain": [
       "<matplotlib.figure.Figure at 0x7fc594067c18>"
      ]
     },
     "metadata": {},
     "output_type": "display_data"
    }
   ],
   "source": [
    "# равномерная сетка x \\in [0,1] n=1,2,...N, N+1\n",
    "N = 80\n",
    "xmax = 1\n",
    "h = xmax/(N+2)\n",
    "xnet = np.array([h*(j+1) for j in range(N+1)])\n",
    "\n",
    "# неравномерная сетка и её производные\n",
    "f = lambda x: 0.1*(np.exp(4.651*x)-1)\n",
    "df = lambda x: 0.1*4.651*np.exp(4.651*x)\n",
    "d2f = lambda x: 0.1*(4.651**2)*np.exp(4.651*x)\n",
    "plt.plot(xnet, f(xnet))\n",
    "plt.plot(xnet, df(xnet))\n",
    "plt.plot(xnet, d2f(xnet))\n",
    "plt.legend(['$f(x)$', '$df(x)/dx$', '$d^2f(x)/dx^2$'])\n",
    "plt.xlabel('$x$')\n",
    "plt.ylabel('$f(x)$')\n",
    "\n",
    "# потенциал\n",
    "V = lambda r: -(1+1/r)*np.exp(-2*r)\n",
    "\n",
    "# энергия и волнове число\n",
    "E = 0.1\n",
    "k = (2*E)**0.5\n",
    "\n",
    "# P_s и P_c\n",
    "P_s = lambda r: np.sin(k*r)\n",
    "P_c = lambda r: np.cos(k*r)"
   ]
  },
  {
   "cell_type": "markdown",
   "metadata": {},
   "source": [
    "## Решение задачи рассеяния методом коллокаций\n",
    "Применяемый метод сводится к СЛАУ вида $A\\vec{c}=\\vec{b}$, где $\\vec{c}$ - вектор коэффициэнтов разложения волновой функции по B-сплайнам и волне на бесконечности. Ниже формируются матрицы A и b."
   ]
  },
  {
   "cell_type": "code",
   "execution_count": 13,
   "metadata": {
    "collapsed": false
   },
   "outputs": [
    {
     "name": "stdout",
     "output_type": "stream",
     "text": [
      "A:\n",
      " [[ -1.42521989e+05  -1.32229628e+03   0.00000000e+00 ...,   0.00000000e+00\n",
      "    4.47213595e-01  -9.58962901e+04]\n",
      " [  2.14456512e+04  -4.14551308e+04   2.02651598e+04 ...,   0.00000000e+00\n",
      "    4.44603260e-01   1.70352877e+02]\n",
      " [  0.00000000e+00   1.91283337e+04  -3.70792519e+04 ...,   0.00000000e+00\n",
      "    4.41839891e-01   8.22465059e+01]\n",
      " ..., \n",
      " [  0.00000000e+00   0.00000000e+00   0.00000000e+00 ...,  -5.23765989e+00\n",
      "   -8.64181467e-09  -5.62901490e-09]\n",
      " [  0.00000000e+00   0.00000000e+00   0.00000000e+00 ...,   2.47519153e+00\n",
      "   -3.25592995e-09  -1.12765828e-09]\n",
      " [  5.28918512e+02   2.64459256e+02   0.00000000e+00 ...,   0.00000000e+00\n",
      "    4.47213595e-01   5.28918512e+02]]\n"
     ]
    }
   ],
   "source": [
    "A = np.zeros((N+3, N+3))\n",
    "# первая строка\n",
    "A[0, 0] = -9/2/(df(0)*h)**2 - 3*d2f(0)/2/df(0)**3/h\n",
    "A[0, 1] = -3*d2f(0)/4/(df(0)**3)/h\n",
    "A[0,-2] = k\n",
    "A[0,-1] = -3/(df(0)*h)**2 - 3*d2f(0)/2/(df(0)**3)/h - E\n",
    "\n",
    "\n",
    "# последняя строка\n",
    "A[-1, 0] = 3/(df(0)*h)\n",
    "A[-1, 1] = 3/(2*df(0)*h)\n",
    "A[-1,-2] = k\n",
    "A[-1,-1] = 3/(df(0)*h)\n",
    "\n",
    "\n",
    "# диагональ\n",
    "for j, x in zip(range(N+1), xnet):\n",
    "    A[1+j, 1+j] = -3/2/(df(x)*h)**2 + E - V(f(x))\n",
    "    A[1+j, 1+j-1] = 3/4/(df(x)*h)**2 + 3*d2f(x)/8/(df(x)**3)/h + (E - V(f(x)))/4\n",
    "    A[1+j, 1+j+1] = 3/4/(df(x)*h)**2 - 3*d2f(x)/8/(df(x)**3)/h + (E - V(f(x)))/4\n",
    "\n",
    "# предпоследний столбец\n",
    "A[1:-1, -2] = [-V(f(x))*P_s(f(x)) for x in xnet]\n",
    "\n",
    "# последний столбец\n",
    "A[1:-1, -1] = [-V(f(x))*P_c(f(x)) for x in xnet]\n",
    "\n",
    "b = np.zeros((N+3, ))\n",
    "b[-1] = 1\n",
    "\n",
    "print('A:\\n',A)"
   ]
  },
  {
   "cell_type": "code",
   "execution_count": 9,
   "metadata": {
    "collapsed": false
   },
   "outputs": [],
   "source": [
    "c = np.linalg.solve(A, b)"
   ]
  },
  {
   "cell_type": "code",
   "execution_count": 10,
   "metadata": {
    "collapsed": false
   },
   "outputs": [
    {
     "name": "stdout",
     "output_type": "stream",
     "text": [
      "фаза рассеяния: 1.05327571865\n"
     ]
    }
   ],
   "source": [
    "print('фаза рассеяния:', np.arctan(c[-1]/c[-2]))"
   ]
  },
  {
   "cell_type": "markdown",
   "metadata": {},
   "source": [
    "Восстановление волновой функции:"
   ]
  },
  {
   "cell_type": "code",
   "execution_count": 11,
   "metadata": {
    "collapsed": false
   },
   "outputs": [
    {
     "data": {
      "text/plain": [
       "<matplotlib.text.Text at 0x7fc58b708d30>"
      ]
     },
     "execution_count": 11,
     "metadata": {},
     "output_type": "execute_result"
    },
    {
     "data": {
      "image/png": "[encoded data removed]",
      "text/plain": [
       "<matplotlib.figure.Figure at 0x7fc58b681828>"
      ]
     },
     "metadata": {},
     "output_type": "display_data"
    }
   ],
   "source": [
    "phi = c[1:-2].copy()\n",
    "phi += np.concatenate([phi[1:], [0]])/4 + np.concatenate([[0], phi[:-1]])/4 \n",
    "phi += c[-1]*P_c(f(xnet[:-1])) + c[-2]*P_s(f(xnet[:-1]))\n",
    "\n",
    "plt.plot(f(xnet[:-1]), phi)\n",
    "plt.xlabel('$r=f(x)$')\n",
    "plt.ylabel('$\\phi$')"
   ]
  },
  {
   "cell_type": "code",
   "execution_count": null,
   "metadata": {
    "collapsed": true
   },
   "outputs": [],
   "source": []
  }
 ],
 "metadata": {
  "kernelspec": {
   "display_name": "Python 3",
   "language": "python",
   "name": "python3"
  },
  "language_info": {
   "codemirror_mode": {
    "name": "ipython",
    "version": 3
   },
   "file_extension": ".py",
   "mimetype": "text/x-python",
   "name": "python",
   "nbconvert_exporter": "python",
   "pygments_lexer": "ipython3",
   "version": "3.4.3"
  }
 },
 "nbformat": 4,
 "nbformat_minor": 0
}
