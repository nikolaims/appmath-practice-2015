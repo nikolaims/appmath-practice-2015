{
 "cells": [
  {
   "cell_type": "code",
   "execution_count": 3,
   "metadata": {
    "collapsed": false
   },
   "outputs": [],
   "source": [
    "import numpy as np\n",
    "from scipy.sparse import bsr_matrix\n",
    "from scipy.sparse.linalg import eigsh\n",
    "from mpl_toolkits.mplot3d import Axes3D\n",
    "import seaborn as sns\n",
    "import matplotlib.pyplot as plt\n",
    "%matplotlib inline"
   ]
  },
  {
   "cell_type": "markdown",
   "metadata": {},
   "source": [
    "## Задание 5 \n",
    "# Решение граничной задачи для двумерного уравнения Шредингера описывающего состояния частицы в бесконечно глубокой потенциальной яме\n",
    "## Параметры сетки\n",
    "В рассчете используется квадратная сетка с $N=N_x=N_y=100$ узлами на диапазоне $[-L/2, L/2]$, где $L=L_x=L_y=1$. "
   ]
  },
  {
   "cell_type": "code",
   "execution_count": 4,
   "metadata": {
    "collapsed": false
   },
   "outputs": [],
   "source": [
    "N = 100\n",
    "L = 1\n",
    "h = L/(N+1)\n",
    "xnet = [-L/2 + h*(j+1) for j in range(N)]\n",
    "ynet = [-L/2 + h*(j+1) for j in range(N)]\n",
    "xynet = [(x,y) for y in ynet for x in xnet]"
   ]
  },
  {
   "cell_type": "markdown",
   "metadata": {},
   "source": [
    "## Гамильтониан\n",
    "В данной задаче формирутся дискретный гамильтониан размера $N^2=10000$ для сетки вида $(x_1y_1, x_2y_1, x_3y_1, ..., x_Ny_1, x_1y_2, x_2y_2, ..., x_Ny_N)$. Гамильтониан задается в блочно-трехдиаганальном виде."
   ]
  },
  {
   "cell_type": "code",
   "execution_count": 5,
   "metadata": {
    "collapsed": false
   },
   "outputs": [],
   "source": [
    "H = np.diag([4/h**2 for j in range(N**2)])\n",
    "for j in range(N**2):\n",
    "    if j<N**2-N:\n",
    "        H[j, j+N] = -1/h**2\n",
    "    if j<N**2-1 and (j+1)%N>0:\n",
    "        H[j, j+1] = -1/h**2\n",
    "H_sparse = bsr_matrix(H + H.T, blocksize=(N,N))\n",
    "# H_sparse.data"
   ]
  },
  {
   "cell_type": "markdown",
   "metadata": {
    "collapsed": true
   },
   "source": [
    "## Рассчет и визуализация первых 9 волновых функций\n",
    "Здесь рассчитываются волновые функции для первых 10 наименьших значений спектра. Затем эти функции визуализируются. Также подписаны значения энергии $\\hat{E_n}$ которые связаны с полученными значениями спектра $E_n$ по формуле:\n",
    "\n",
    "$\\hat{E_n} = E_n/\\pi^2 - (E_1/\\pi^2 - 2)$\n",
    "\n",
    "Учитывая что ширина ямы $L=1$ то полученные значения $\\hat{E_n}$ для того чтобы совпадать с теорией должны быть представимы в виде $\\hat{E_n} = n_x^2 + n_y^2, n_x,n_y=1,2,..$. Рассчет дал похожие значения, например $\\hat{E_2}=\\hat{E_3}=4.88\\approx2^2+1^2$"
   ]
  },
  {
   "cell_type": "code",
   "execution_count": 6,
   "metadata": {
    "collapsed": false
   },
   "outputs": [],
   "source": [
    "vals, vecs = eigsh(H_sparse, k=10, which='SA')"
   ]
  },
  {
   "cell_type": "code",
   "execution_count": null,
   "metadata": {
    "collapsed": false
   },
   "outputs": [],
   "source": [
    "cm=sns.color_palette(\"Blues_d\")\n",
    "X, Y = np.meshgrid(xnet, ynet)\n",
    "fig = plt.figure(figsize=(17,17))\n",
    "for k in range(9):\n",
    "    ax = fig.add_subplot(3, 3, k+1, projection='3d')\n",
    "    Z = np.array([[vecs[:,k][j+N*i] for j in range(N)] for i in range(N)])\n",
    "    ax.plot_surface(X, Y, Z, rstride=3, cstride=3, alpha=0.75, color=cm[-1], linewidth=0.5, edgecolors=cm[0])\n",
    "    ax.set_zlim3d([-0.03, 0.03])\n",
    "    ax.set_title('$|\\ %d>$\\n$\\hat{E}_%d=%.2f$'%(k+1, k+1, vals[k]/(np.pi**2)-(vals[0]/(np.pi**2)-2)))\n",
    "plt.show()"
   ]
  },
  {
   "cell_type": "code",
   "execution_count": null,
   "metadata": {
    "collapsed": true
   },
   "outputs": [],
   "source": []
  }
 ],
 "metadata": {
  "kernelspec": {
   "display_name": "Python 3",
   "language": "python",
   "name": "python3"
  },
  "language_info": {
   "codemirror_mode": {
    "name": "ipython",
    "version": 3
   },
   "file_extension": ".py",
   "mimetype": "text/x-python",
   "name": "python",
   "nbconvert_exporter": "python",
   "pygments_lexer": "ipython3",
   "version": "3.4.3"
  }
 },
 "nbformat": 4,
 "nbformat_minor": 0
}
